{
 "cells": [
  {
   "cell_type": "markdown",
   "id": "e08ac2b4",
   "metadata": {},
   "source": [
    "# Testing the LSTM Model"
   ]
  },
  {
   "cell_type": "markdown",
   "id": "edd2bf7e",
   "metadata": {},
   "source": [
    "### GPU Availability Test"
   ]
  },
  {
   "cell_type": "code",
   "execution_count": 3,
   "id": "37ef7af8",
   "metadata": {},
   "outputs": [
    {
     "name": "stderr",
     "output_type": "stream",
     "text": [
      "2025-07-15 22:37:13.002369: I tensorflow/core/util/port.cc:153] oneDNN custom operations are on. You may see slightly different numerical results due to floating-point round-off errors from different computation orders. To turn them off, set the environment variable `TF_ENABLE_ONEDNN_OPTS=0`.\n",
      "2025-07-15 22:37:13.361751: E external/local_xla/xla/stream_executor/cuda/cuda_fft.cc:477] Unable to register cuFFT factory: Attempting to register factory for plugin cuFFT when one has already been registered\n",
      "WARNING: All log messages before absl::InitializeLog() is called are written to STDERR\n",
      "E0000 00:00:1752619033.490206   29818 cuda_dnn.cc:8310] Unable to register cuDNN factory: Attempting to register factory for plugin cuDNN when one has already been registered\n",
      "E0000 00:00:1752619033.529542   29818 cuda_blas.cc:1418] Unable to register cuBLAS factory: Attempting to register factory for plugin cuBLAS when one has already been registered\n",
      "2025-07-15 22:37:13.834741: I tensorflow/core/platform/cpu_feature_guard.cc:210] This TensorFlow binary is optimized to use available CPU instructions in performance-critical operations.\n",
      "To enable the following instructions: AVX2 AVX_VNNI FMA, in other operations, rebuild TensorFlow with the appropriate compiler flags.\n"
     ]
    },
    {
     "name": "stdout",
     "output_type": "stream",
     "text": [
      "\n",
      "\n",
      "Num GPUs Available:  1\n"
     ]
    }
   ],
   "source": [
    "import tensorflow as tf\n",
    "print(\"\\n\\nNum GPUs Available: \", len(tf.config.list_physical_devices('GPU')))"
   ]
  },
  {
   "cell_type": "markdown",
   "id": "5dad3e08",
   "metadata": {},
   "source": [
    "### Test Dataset"
   ]
  },
  {
   "cell_type": "code",
   "execution_count": 72,
   "id": "1fc7cb4b",
   "metadata": {},
   "outputs": [],
   "source": [
    "import pandas as pd\n",
    "import numpy as np\n",
    "import seaborn as sns\n",
    "import matplotlib.pyplot as plt"
   ]
  },
  {
   "cell_type": "code",
   "execution_count": 4,
   "id": "4270bf31",
   "metadata": {},
   "outputs": [
    {
     "data": {
      "text/html": [
       "<div>\n",
       "<style scoped>\n",
       "    .dataframe tbody tr th:only-of-type {\n",
       "        vertical-align: middle;\n",
       "    }\n",
       "\n",
       "    .dataframe tbody tr th {\n",
       "        vertical-align: top;\n",
       "    }\n",
       "\n",
       "    .dataframe thead th {\n",
       "        text-align: right;\n",
       "    }\n",
       "</style>\n",
       "<table border=\"1\" class=\"dataframe\">\n",
       "  <thead>\n",
       "    <tr style=\"text-align: right;\">\n",
       "      <th></th>\n",
       "      <th>Target</th>\n",
       "      <th>Ham</th>\n",
       "      <th>Spam</th>\n",
       "    </tr>\n",
       "  </thead>\n",
       "  <tbody>\n",
       "    <tr>\n",
       "      <th>0</th>\n",
       "      <td>LVIDA TRIP TO THAILAND!! Last day Tomorrow!! H...</td>\n",
       "      <td>0</td>\n",
       "      <td>1</td>\n",
       "    </tr>\n",
       "    <tr>\n",
       "      <th>1</th>\n",
       "      <td>RC120 Fullest-Get Fullest Talktime of Rs120 on...</td>\n",
       "      <td>0</td>\n",
       "      <td>1</td>\n",
       "    </tr>\n",
       "    <tr>\n",
       "      <th>2</th>\n",
       "      <td>E admin building there? I might b slightly ear...</td>\n",
       "      <td>1</td>\n",
       "      <td>0</td>\n",
       "    </tr>\n",
       "    <tr>\n",
       "      <th>3</th>\n",
       "      <td>Aight no rush, I'll ask jay</td>\n",
       "      <td>1</td>\n",
       "      <td>0</td>\n",
       "    </tr>\n",
       "    <tr>\n",
       "      <th>4</th>\n",
       "      <td>ItÛ÷s reassuring, in this crazy world.</td>\n",
       "      <td>1</td>\n",
       "      <td>0</td>\n",
       "    </tr>\n",
       "    <tr>\n",
       "      <th>...</th>\n",
       "      <td>...</td>\n",
       "      <td>...</td>\n",
       "      <td>...</td>\n",
       "    </tr>\n",
       "    <tr>\n",
       "      <th>4883</th>\n",
       "      <td>Thanks for ve lovely wisheds. You rock</td>\n",
       "      <td>1</td>\n",
       "      <td>0</td>\n",
       "    </tr>\n",
       "    <tr>\n",
       "      <th>4884</th>\n",
       "      <td>Friday Releases Some fun movies releasing this...</td>\n",
       "      <td>0</td>\n",
       "      <td>1</td>\n",
       "    </tr>\n",
       "    <tr>\n",
       "      <th>4885</th>\n",
       "      <td>Y she dun believe leh? I tot i told her it's t...</td>\n",
       "      <td>1</td>\n",
       "      <td>0</td>\n",
       "    </tr>\n",
       "    <tr>\n",
       "      <th>4886</th>\n",
       "      <td>What time you think you'll have it? Need to kn...</td>\n",
       "      <td>1</td>\n",
       "      <td>0</td>\n",
       "    </tr>\n",
       "    <tr>\n",
       "      <th>4887</th>\n",
       "      <td>H-D Musical Event Can you guess the name of Ha...</td>\n",
       "      <td>0</td>\n",
       "      <td>1</td>\n",
       "    </tr>\n",
       "  </tbody>\n",
       "</table>\n",
       "<p>4888 rows × 3 columns</p>\n",
       "</div>"
      ],
      "text/plain": [
       "                                                 Target  Ham  Spam\n",
       "0     LVIDA TRIP TO THAILAND!! Last day Tomorrow!! H...    0     1\n",
       "1     RC120 Fullest-Get Fullest Talktime of Rs120 on...    0     1\n",
       "2     E admin building there? I might b slightly ear...    1     0\n",
       "3                           Aight no rush, I'll ask jay    1     0\n",
       "4               ItÛ÷s reassuring, in this crazy world.    1     0\n",
       "...                                                 ...  ...   ...\n",
       "4883             Thanks for ve lovely wisheds. You rock    1     0\n",
       "4884  Friday Releases Some fun movies releasing this...    0     1\n",
       "4885  Y she dun believe leh? I tot i told her it's t...    1     0\n",
       "4886  What time you think you'll have it? Need to kn...    1     0\n",
       "4887  H-D Musical Event Can you guess the name of Ha...    0     1\n",
       "\n",
       "[4888 rows x 3 columns]"
      ]
     },
     "execution_count": 4,
     "metadata": {},
     "output_type": "execute_result"
    }
   ],
   "source": [
    "test_df = pd.read_csv(\"Prepared-Data/test-data.csv\")\n",
    "test_df"
   ]
  },
  {
   "cell_type": "markdown",
   "id": "d822db52",
   "metadata": {},
   "source": [
    "### Importing Models and Predicting results"
   ]
  },
  {
   "cell_type": "code",
   "execution_count": 5,
   "id": "6f0e34d0",
   "metadata": {},
   "outputs": [
    {
     "name": "stderr",
     "output_type": "stream",
     "text": [
      "I0000 00:00:1752619205.735629   29818 gpu_device.cc:2022] Created device /job:localhost/replica:0/task:0/device:GPU:0 with 3539 MB memory:  -> device: 0, name: NVIDIA GeForce RTX 4050 Laptop GPU, pci bus id: 0000:01:00.0, compute capability: 8.9\n"
     ]
    },
    {
     "data": {
      "text/plain": [
       "<TextVectorization name=text_vectorization_3, built=True>"
      ]
     },
     "execution_count": 5,
     "metadata": {},
     "output_type": "execute_result"
    }
   ],
   "source": [
    "vectorizer = tf.keras.models.load_model(\"Models/Vectorizer-Models/spam_ham_text_vectorizer.keras\")\n",
    "vectorizer"
   ]
  },
  {
   "cell_type": "code",
   "execution_count": 6,
   "id": "ae93d229",
   "metadata": {},
   "outputs": [
    {
     "data": {
      "text/plain": [
       "<Sequential name=sequential_2, built=True>"
      ]
     },
     "execution_count": 6,
     "metadata": {},
     "output_type": "execute_result"
    }
   ],
   "source": [
    "model = tf.keras.models.load_model(\"Models/Predictive-Models/spam_ham_BiLstm.keras\")\n",
    "model"
   ]
  },
  {
   "cell_type": "code",
   "execution_count": 9,
   "id": "d05627b5",
   "metadata": {},
   "outputs": [
    {
     "data": {
      "text/plain": [
       "<tf.Tensor: shape=(4888, 107), dtype=int64, numpy=\n",
       "array([[6159,  566,    2, ...,    0,    0,    0],\n",
       "       [5158, 7058, 7059, ...,    0,    0,    0],\n",
       "       [ 304, 8530,    1, ...,    0,    0,    0],\n",
       "       ...,\n",
       "       [ 813,  201,  319, ...,    0,    0,    0],\n",
       "       [  61,   72,    3, ...,    0,    0,    0],\n",
       "       [2057, 5864, 1595, ...,    0,    0,    0]])>"
      ]
     },
     "execution_count": 9,
     "metadata": {},
     "output_type": "execute_result"
    }
   ],
   "source": [
    "vectorized_text = vectorizer(test_df['Target'].values)\n",
    "vectorized_text"
   ]
  },
  {
   "cell_type": "code",
   "execution_count": 11,
   "id": "cc7f245d",
   "metadata": {},
   "outputs": [
    {
     "name": "stdout",
     "output_type": "stream",
     "text": [
      "\u001b[1m153/153\u001b[0m \u001b[32m━━━━━━━━━━━━━━━━━━━━\u001b[0m\u001b[37m\u001b[0m \u001b[1m2s\u001b[0m 12ms/step\n"
     ]
    },
    {
     "data": {
      "text/plain": [
       "array([[6.5247296e-10, 1.0000000e+00],\n",
       "       [4.4643628e-18, 1.0000000e+00],\n",
       "       [1.0000000e+00, 4.6998263e-11],\n",
       "       ...,\n",
       "       [1.0000000e+00, 2.4470346e-14],\n",
       "       [1.0000000e+00, 1.1229733e-08],\n",
       "       [2.0735554e-27, 1.0000000e+00]], dtype=float32)"
      ]
     },
     "execution_count": 11,
     "metadata": {},
     "output_type": "execute_result"
    }
   ],
   "source": [
    "result_arr = model.predict(vectorized_text)\n",
    "result_arr"
   ]
  },
  {
   "cell_type": "code",
   "execution_count": 34,
   "id": "a72cb13f",
   "metadata": {},
   "outputs": [
    {
     "data": {
      "text/plain": [
       "array([[0, 1],\n",
       "       [0, 1],\n",
       "       [1, 0],\n",
       "       ...,\n",
       "       [1, 0],\n",
       "       [1, 0],\n",
       "       [0, 1]])"
      ]
     },
     "execution_count": 34,
     "metadata": {},
     "output_type": "execute_result"
    }
   ],
   "source": [
    "predictions = (result_arr > 0.5).astype('int')\n",
    "predictions"
   ]
  },
  {
   "cell_type": "code",
   "execution_count": 35,
   "id": "fa8328f5",
   "metadata": {},
   "outputs": [
    {
     "data": {
      "text/plain": [
       "array([[0, 1],\n",
       "       [0, 1],\n",
       "       [1, 0],\n",
       "       ...,\n",
       "       [1, 0],\n",
       "       [1, 0],\n",
       "       [0, 1]])"
      ]
     },
     "execution_count": 35,
     "metadata": {},
     "output_type": "execute_result"
    }
   ],
   "source": [
    "actual_values = test_df[test_df.columns[1:]].values\n",
    "actual_values"
   ]
  },
  {
   "cell_type": "code",
   "execution_count": 40,
   "id": "152bd718",
   "metadata": {},
   "outputs": [
    {
     "name": "stdout",
     "output_type": "stream",
     "text": [
      "Model Accuracy: 98.15875613747954 %\n"
     ]
    }
   ],
   "source": [
    "accuracy = (predictions == actual_values).mean()\n",
    "\n",
    "print(f\"Model Accuracy: {accuracy * 100} %\")"
   ]
  },
  {
   "cell_type": "markdown",
   "id": "14ec641f",
   "metadata": {},
   "source": [
    "## Result Evaluations"
   ]
  },
  {
   "cell_type": "code",
   "execution_count": 78,
   "id": "bab41e57",
   "metadata": {},
   "outputs": [],
   "source": [
    "from sklearn.metrics import confusion_matrix, accuracy_score"
   ]
  },
  {
   "cell_type": "code",
   "execution_count": 56,
   "id": "983ee260",
   "metadata": {},
   "outputs": [],
   "source": [
    "spam_true = test_df[\"Spam\"].values\n",
    "spam_pred = [pred[1] for pred in predictions] # Getting spam from predictions, (it was in index 1)"
   ]
  },
  {
   "cell_type": "code",
   "execution_count": 81,
   "id": "d6e5092a",
   "metadata": {},
   "outputs": [
    {
     "data": {
      "text/plain": [
       "0.9815875613747954"
      ]
     },
     "execution_count": 81,
     "metadata": {},
     "output_type": "execute_result"
    }
   ],
   "source": [
    "accuracy_score(spam_true, spam_pred)"
   ]
  },
  {
   "cell_type": "code",
   "execution_count": 83,
   "id": "7d27f8c6",
   "metadata": {},
   "outputs": [
    {
     "data": {
      "text/plain": [
       "Text(77.92222222222227, 0.5, 'Actual Values')"
      ]
     },
     "execution_count": 83,
     "metadata": {},
     "output_type": "execute_result"
    },
    {
     "data": {
      "image/png": "[encoded data removed]",
      "text/plain": [
       "<Figure size 640x480 with 2 Axes>"
      ]
     },
     "metadata": {},
     "output_type": "display_data"
    }
   ],
   "source": [
    "cfm = confusion_matrix(spam_true, spam_pred)\n",
    "\n",
    "sns.heatmap(\n",
    "    cfm, \n",
    "    annot=True, \n",
    "    cmap='Blues',\n",
    "    fmt='.4g',\n",
    "    square=True, \n",
    "    xticklabels=[\"Positive\", \"Negative\"],\n",
    "    yticklabels=[\"True\", \"False\"],\n",
    ")\n",
    "plt.title('Confusion Matrix for \"SPAM\" Prediction')\n",
    "plt.xlabel(\"Predicted Values\")\n",
    "plt.ylabel(\"Actual Values\")"
   ]
  },
  {
   "cell_type": "markdown",
   "id": "a38f302a",
   "metadata": {},
   "source": [
    "## Done!!\n",
    "- Hence our **Long Short Term Memory (LSTM)** Models provides around ***98.15%*** accuracy on Test Dataset."
   ]
  }
 ],
 "metadata": {
  "kernelspec": {
   "display_name": "tf",
   "language": "python",
   "name": "python3"
  },
  "language_info": {
   "codemirror_mode": {
    "name": "ipython",
    "version": 3
   },
   "file_extension": ".py",
   "mimetype": "text/x-python",
   "name": "python",
   "nbconvert_exporter": "python",
   "pygments_lexer": "ipython3",
   "version": "3.9.20"
  }
 },
 "nbformat": 4,
 "nbformat_minor": 5
}
